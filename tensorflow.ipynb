{
 "cells": [
  {
   "cell_type": "markdown",
   "metadata": {},
   "source": [
    "Tensorflow Basics To Advanced"
   ]
  },
  {
   "cell_type": "code",
   "execution_count": null,
   "metadata": {},
   "outputs": [],
   "source": [
    "# installing tensorflow through pip\n",
    "! pip install tensorflow"
   ]
  },
  {
   "cell_type": "code",
   "execution_count": null,
   "metadata": {},
   "outputs": [],
   "source": [
    "# make sure the version of tensorflow\n",
    "%tensorflow_version 2.x"
   ]
  },
  {
   "cell_type": "code",
   "execution_count": null,
   "metadata": {},
   "outputs": [],
   "source": [
    "# importing tensorflow\n",
    "import tensorflow as tf\n",
    "print(tf.version)"
   ]
  },
  {
   "cell_type": "code",
   "execution_count": null,
   "metadata": {},
   "outputs": [],
   "source": [
    "# creating few different tensors\n",
    "string=tf.Variable('this is a string', tf.string)\n",
    "# we have also int8,int16 and int32\n",
    "number=tf.Variable(7,tf.int64)\n",
    "# we have also float32,float64\n",
    "floatting=tf.Variable(7.77,tf.float16)\n",
    "# type of tensors vatriable\n",
    "type(string)"
   ]
  },
  {
   "cell_type": "markdown",
   "metadata": {},
   "source": [
    "Rank or degree of Tensor"
   ]
  },
  {
   "cell_type": "code",
   "execution_count": null,
   "metadata": {},
   "outputs": [],
   "source": [
    "# rank/degree : this term simply mean the number of dimensions involved in the tensor\n",
    "# rank_01 and rank_02 involve 1 and 2 respectively.\n",
    "rank_01=tf.Variable(['test'],tf.string)\n",
    "rank_03=tf.Variable(['test','Mehedi','google'],tf.string)\n",
    "rank_02=tf.Variable([['test','ok'],['test','yes']],tf.string)\n",
    "print(tf.rank(rank_01),tf.rank(rank_03),tf.rank(rank_02))"
   ]
  },
  {
   "cell_type": "markdown",
   "metadata": {},
   "source": [
    "Shape of tensors : \n",
    "- The shape of tensors are simply the amount of elements that exist in each dimension. \n",
    "- Tensorflow will try to determine the shape of a tensor but sometimes it may be unknown."
   ]
  },
  {
   "cell_type": "code",
   "execution_count": null,
   "metadata": {},
   "outputs": [],
   "source": [
    "# to get the shape of a tensor we use shape attribute\n",
    "# it returns the valus as a list or here we use array.\n",
    "# output : TensorShape([2, 2]) for rank_02\n",
    "rank_01.shape\n",
    "rank_03.shape\n",
    "rank_02.shape"
   ]
  },
  {
   "cell_type": "code",
   "execution_count": null,
   "metadata": {},
   "outputs": [],
   "source": []
  }
 ],
 "metadata": {
  "kernelspec": {
   "display_name": "myenv",
   "language": "python",
   "name": "python3"
  },
  "language_info": {
   "codemirror_mode": {
    "name": "ipython",
    "version": 3
   },
   "file_extension": ".py",
   "mimetype": "text/x-python",
   "name": "python",
   "nbconvert_exporter": "python",
   "pygments_lexer": "ipython3",
   "version": "3.10.4"
  }
 },
 "nbformat": 4,
 "nbformat_minor": 2
}
